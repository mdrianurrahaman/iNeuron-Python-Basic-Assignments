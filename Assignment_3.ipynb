{
 "cells": [
  {
   "cell_type": "markdown",
   "metadata": {},
   "source": [
    "# 1. Why are functions advantageous to have in your programs?"
   ]
  },
  {
   "cell_type": "code",
   "execution_count": null,
   "metadata": {},
   "outputs": [],
   "source": [
    "Modularity: Functions allow you to break down a program into smaller, manageable parts. Each function can represent a specific task or operation, making the code easier to understand, maintain, and debug. Modularity enhances code reusability, as functions can be called multiple times from different parts of the program.\n",
    "\n",
    "Abstraction: Functions abstract away the implementation details of a task, providing a higher-level interface. This abstraction enables developers to focus on the functionality of each component without needing to understand its internal workings. Users of the function only need to know how to use it, not how it's implemented.\n",
    "\n",
    "Code Reusability: Once defined, functions can be reused in different parts of the program or even in other programs altogether. This saves time and effort by eliminating the need to rewrite the same code for similar tasks.\n",
    "\n",
    "Organization: Functions help organize code into logical units, improving readability and maintainability. By grouping related operations together, functions make it easier for developers to navigate and understand the codebase.\n",
    "\n",
    "Testing and Debugging: Functions facilitate testing and debugging processes. Since functions encapsulate specific functionality, they can be tested independently, making it easier to identify and fix errors. Debugging becomes more manageable as developers can isolate issues to specific functions.\n",
    "\n",
    "Scoping: Functions introduce scope, which defines the visibility and lifetime of variables. Local variables within a function are accessible only within that function's scope, preventing unintended modifications and conflicts with variables in other parts of the program.\n",
    "\n",
    "Encapsulation: Functions support encapsulation by hiding the internal details of a task. By defining inputs (parameters) and outputs (return values), functions encapsulate the logic required to perform a task, promoting information hiding and reducing dependencies between different parts of the program."
   ]
  },
  {
   "cell_type": "markdown",
   "metadata": {},
   "source": [
    "# 2. When does the code in a function run: when it&#39;s specified or when it&#39;s called?"
   ]
  },
  {
   "cell_type": "code",
   "execution_count": null,
   "metadata": {},
   "outputs": [],
   "source": [
    "The code within a function runs when the function is called, not when it's specified.\n",
    "\n",
    "When you define a function in a programming language, you are essentially creating a reusable block of code that will execute only when the function is invoked or called elsewhere in the program. Until the function is called, the code inside it remains dormant and does not execute.\n",
    "\n",
    "Once the function is called, the program's execution flow moves to the function definition, and the code within the function's body starts executing according to the function's defined behavior. After the function finishes executing its code, control returns to the point in the program where the function was called, and the program continues executing from there."
   ]
  },
  {
   "cell_type": "markdown",
   "metadata": {},
   "source": [
    "# 3. What statement creates a function?"
   ]
  },
  {
   "cell_type": "code",
   "execution_count": null,
   "metadata": {},
   "outputs": [],
   "source": [
    "In most programming languages, a function is created using a statement typically referred to as a \"function declaration\" or \"function definition.\" Here's an example of how a function is created:\n",
    "\n",
    "Function Keyword: Start with the keyword that defines a function, such as \"function\" in JavaScript or \"def\" in Python.\n",
    "\n",
    "Function Name: Provide a name for the function, which should be descriptive and indicate the purpose of the function.\n",
    "\n",
    "Parameters: Define the parameters (if any) that the function expects to receive as input. Parameters are enclosed within parentheses and separated by commas.\n",
    "\n",
    "Function Body: Write the code block that represents the functionality of the function. This block of code is enclosed within curly braces {} in languages like JavaScript, or indented in Python.\n",
    "\n",
    "Return Statement (Optional): Optionally, include a return statement to specify the value that the function should return after execution. This statement is used to send a value back to the caller of the function.\n",
    "\n",
    "Example in JavaScript:\n",
    "\n",
    "javascript\n",
    "Copy code\n",
    "function greet(name) {\n",
    "    return \"Hello, \" + name + \"!\";\n",
    "}\n",
    "In this example:\n",
    "\n",
    "The keyword \"function\" indicates the creation of a function.\n",
    "The function name is \"greet.\"\n",
    "It accepts one parameter, \"name.\"\n",
    "The function body concatenates the \"name\" parameter with a greeting message.\n",
    "The return statement specifies that the function should return the greeting message."
   ]
  },
  {
   "cell_type": "markdown",
   "metadata": {},
   "source": [
    "# 4. What is the difference between a function and a function call?"
   ]
  },
  {
   "cell_type": "code",
   "execution_count": null,
   "metadata": {},
   "outputs": [],
   "source": [
    "\n",
    "The main difference between a function and a function call lies in their roles and actions within a program:\n",
    "\n",
    "Function:\n",
    "\n",
    "A function is a block of code that performs a specific task or calculation.\n",
    "It is defined once in the program and can be reused multiple times.\n",
    "Functions encapsulate a set of instructions that can be executed when called upon.\n",
    "Functions can accept input parameters and may produce output results.\n",
    "Function Call:\n",
    "\n",
    "A function call is an action that invokes or executes a function.\n",
    "It triggers the execution of the code within the function's body.\n",
    "Function calls provide the necessary arguments (if any) required by the function.\n",
    "When a function call is made, the program temporarily pauses its current execution and starts executing the code inside the function."
   ]
  },
  {
   "cell_type": "markdown",
   "metadata": {},
   "source": [
    "# 5. How many global scopes are there in a Python program? How many local scopes?"
   ]
  },
  {
   "cell_type": "code",
   "execution_count": null,
   "metadata": {},
   "outputs": [],
   "source": [
    "In a Python program, there is typically one global scope and multiple local scopes.\n",
    "\n",
    "Global Scope:\n",
    "\n",
    "There is one global scope in a Python program.\n",
    "The global scope includes variables, functions, classes, and other objects defined at the top level of the program or in a module.\n",
    "Variables defined in the global scope are accessible from anywhere within the program, including from within functions and nested scopes.\n",
    "Local Scopes:\n",
    "\n",
    "Local scopes are created whenever a function is called.\n",
    "Each function call creates its own local scope, which includes the parameters of the function and any variables defined within the function.\n",
    "Local scopes are temporary and exist only during the execution of the function.\n",
    "Variables defined within a function are local to that function and cannot be accessed outside of it."
   ]
  },
  {
   "cell_type": "markdown",
   "metadata": {},
   "source": [
    "# 6. What happens to variables in a local scope when the function call returns?"
   ]
  },
  {
   "cell_type": "code",
   "execution_count": null,
   "metadata": {},
   "outputs": [],
   "source": []
  },
  {
   "cell_type": "code",
   "execution_count": null,
   "metadata": {},
   "outputs": [],
   "source": [
    "When a function call returns in Python, the local variables within that function's scope cease to exist. Here's what happens to variables in a local scope when the function call returns:\n",
    "\n",
    "Variable Deletion:\n",
    "\n",
    "All local variables created within the function's scope are deleted from memory once the function call returns.\n",
    "This means that the memory allocated to store these variables is released, and the variables no longer exist.\n",
    "Scope Cleanup:\n",
    "\n",
    "Python's garbage collector automatically performs cleanup of local variables that are no longer referenced once the function returns.\n",
    "This cleanup process ensures that memory resources are efficiently managed and reclaimed when they are no longer needed.\n",
    "Inaccessibility:\n",
    "\n",
    "Local variables defined within the function are accessible only within that function's scope.\n",
    "Once the function call returns, attempts to access these variables from outside the function will result in an error, as they no longer exist."
   ]
  },
  {
   "cell_type": "markdown",
   "metadata": {},
   "source": [
    "# 7. What is the concept of a return value? Is it possible to have a return value in an expression?"
   ]
  },
  {
   "cell_type": "code",
   "execution_count": null,
   "metadata": {},
   "outputs": [],
   "source": [
    "The concept of a return value in programming refers to the value that a function sends back to the caller after it has finished executing. When a function is called, it may perform some operations and then optionally return a result to the part of the program that invoked it.\n",
    "\n",
    "A return value serves various purposes:\n",
    "\n",
    "Communicating Results: It allows functions to communicate the outcome of their operations back to the caller. For example, a function might return the result of a calculation or a status indicating whether the operation was successful.\n",
    "\n",
    "Passing Data: Functions can use return values to pass data back to the calling code, enabling the caller to use the result in further computations or operations.\n",
    "\n",
    "Chaining Function Calls: Return values can be used to chain function calls together, where the output of one function becomes the input for another.\n",
    "\n",
    "Regarding the second part of your question, yes, it is possible to have a return value in an expression. In many programming languages, including Python, functions can be called within expressions, and their return values can be used as part of those expressions. For example:\n",
    "\n",
    "python code:\n",
    "\n",
    "result = function_name(argument) + 5"
   ]
  },
  {
   "cell_type": "markdown",
   "metadata": {},
   "source": [
    "# 8. If a function does not have a return statement, what is the return value of a call to that function?"
   ]
  },
  {
   "cell_type": "code",
   "execution_count": null,
   "metadata": {},
   "outputs": [],
   "source": [
    "If a function in Python does not have a return statement, it implicitly returns None by default. None is a special Python object that represents the absence of a value. When a function without a return statement is called, it executes its code but does not explicitly return any value. In such cases, Python automatically returns None to the caller.\n",
    "\n",
    "Here's an example:\n",
    "\n",
    "python\n",
    "code\n",
    "def greet(name):\n",
    "    print(\"Hello, \" + name + \"!\")\n",
    "\n",
    "result = greet(\"Alice\")\n",
    "print(result)\n",
    "In this example, the greet function does not have a return statement. When it is called with the argument \"Alice\", it prints \"Hello, Alice!\" but does not return any value explicitly. Therefore, the variable result will be assigned the value None, as that's the implicit return value of the function greet.\n",
    "\n",
    "Output:\n",
    "\n",
    "\n",
    " code\n",
    "Hello, Alice!\n",
    "None\n",
    "As you can see, the value of result is None, indicating that the function greet did not return anything."
   ]
  },
  {
   "cell_type": "markdown",
   "metadata": {},
   "source": [
    "# 9. How do you make a function variable refer to the global variable?"
   ]
  },
  {
   "cell_type": "code",
   "execution_count": null,
   "metadata": {},
   "outputs": [],
   "source": [
    "To make a function variable refer to a global variable in Python, you can use the global keyword within the function to declare that the variable is referring to a global variable rather than creating a new local variable. This allows you to modify or access the global variable from within the function.\n",
    "\n",
    "Here's how you can use the global keyword:\n",
    "\n",
    "python\n",
    "Copy code\n",
    "global_variable = 10  # Global variable\n",
    "\n",
    "def modify_global():\n",
    "    global global_variable  # Declare that we're using the global variable\n",
    "    global_variable = 20    # Modify the global variable within the function\n",
    "    print(\"Inside the function:\", global_variable)\n",
    "\n",
    "print(\"Before function call:\", global_variable)\n",
    "modify_global()\n",
    "print(\"After function call:\", global_variable)\n",
    "Output:\n",
    "\n",
    "r\n",
    "Copy code\n",
    "Before function call: 10\n",
    "Inside the function: 20\n",
    "After function call: 20\n",
    "In this example:\n",
    "\n",
    "We have a global variable global_variable initially set to 10.\n",
    "The function modify_global modifies the global variable to 20 using the global keyword.\n",
    "When the function is called, it prints the modified value of the global variable.\n",
    "After the function call, the global variable retains the modified value outside the function.\n",
    "Using the global keyword is essential to ensure that you're working with the global variable inside the function rather than creating a new local variable with the same name. However, it's generally recommended to minimize the use of global variables to maintain code readability and avoid unintended side effects."
   ]
  },
  {
   "cell_type": "markdown",
   "metadata": {},
   "source": [
    "# 10. What is the data type of None?"
   ]
  },
  {
   "cell_type": "code",
   "execution_count": null,
   "metadata": {},
   "outputs": [],
   "source": [
    "In Python, None is a special constant that represents the absence of a value or a null value. It is a singleton object of the NoneType data type.\n",
    "\n",
    "You can check the data type of None using the type() function:\n",
    "\n",
    "python\n",
    "Copy code\n",
    "print(type(None))  # Output: <class 'NoneType'>\n",
    "The NoneType is the type of the None object, which indicates that it represents the absence of a value rather than being a specific data type like integers, strings, or lists."
   ]
  },
  {
   "cell_type": "markdown",
   "metadata": {},
   "source": [
    "# 11. What does the sentence import areallyourpetsnamederic do?"
   ]
  },
  {
   "cell_type": "code",
   "execution_count": null,
   "metadata": {},
   "outputs": [],
   "source": [
    "The sentence import areallyourpetsnamederic is not a standard Python statement and would result in a syntax error if executed as it is. However, assuming areallyourpetsnamederic is a valid Python module or package, using the import statement would import that module or package into the current Python environment.\n",
    "\n",
    "For example, if areallyourpetsnamederic is the name of a Python module containing functions, classes, or variables, importing it would make those functions, classes, or variables accessible within the current Python script or interactive session.\n",
    "\n",
    "Here's how you would typically import a module named areallyyourpetsnamederic:\n",
    "\n",
    "python code:\n",
    "import areallyyourpetsnamederic\n",
    "After importing the module, you can use its contents by prefixing them with the module name, followed by a dot (.). For example:\n",
    "\n",
    "python code:\n",
    "areallyyourpetsnamederic.some_function()\n",
    "areallyyourpetsnamederic.SomeClass()\n",
    "If areallyyourpetsnamederic is not a valid Python module or package, attempting to import it would result in a ModuleNotFoundError."
   ]
  },
  {
   "cell_type": "markdown",
   "metadata": {},
   "source": [
    "# 12. If you had a bacon() feature in a spam module, what would you call it after importing spam?"
   ]
  },
  {
   "cell_type": "code",
   "execution_count": null,
   "metadata": {},
   "outputs": [],
   "source": [
    "After importing the spam module, you would call the bacon() function by using dot notation, which allows you to access members (functions, classes, variables) of the imported module.\n",
    "\n",
    "Assuming the spam module contains a function named bacon(), you would call it like this:\n",
    "\n",
    "python code:\n",
    "\n",
    "import spam\n",
    "\n",
    "spam.bacon()\n",
    "In this example:\n",
    "\n",
    "import spam imports the spam module into the current Python environment.\n",
    "spam.bacon() calls the bacon() function from the spam module.\n",
    "This syntax ensures that you are accessing the bacon() function from the spam module, avoiding any potential naming conflicts with other functions or variables in your code."
   ]
  },
  {
   "cell_type": "markdown",
   "metadata": {},
   "source": [
    "# 13. What can you do to save a programme from crashing if it encounters an error?"
   ]
  },
  {
   "cell_type": "code",
   "execution_count": null,
   "metadata": {},
   "outputs": [],
   "source": [
    "To prevent a program from crashing when encountering an error, you can use error handling techniques to gracefully handle exceptions that may occur during program execution. Here are some strategies you can employ:\n",
    "\n",
    "Try-Except Blocks: Surround the code that may raise an exception with a try-except block. This allows you to catch and handle exceptions without terminating the program abruptly.\n",
    "\n",
    "python\n",
    "Copy code\n",
    "try:\n",
    "    # Code that may raise an exception\n",
    "except SomeException:\n",
    "    # Code to handle the exception\n",
    "Specific Exception Handling: Catch specific exceptions rather than using a generic except block. This allows you to handle different types of errors differently.\n",
    "\n",
    "python code\n",
    "try:\n",
    "    # Code that may raise an exception\n",
    "except ValueError:\n",
    "    # Code to handle ValueError\n",
    "except KeyError:\n",
    "    # Code to handle KeyError\n",
    "Finally Block: Use a finally block to execute cleanup code regardless of whether an exception occurs or not. This is useful for releasing resources or closing files.\n",
    "\n",
    "python code\n",
    "try:\n",
    "    # Code that may raise an exception\n",
    "except SomeException:\n",
    "    # Code to handle the exception\n",
    "finally:\n",
    "    # Cleanup code\n",
    "Logging: Use logging to record information about exceptions and program behavior. This helps in debugging and diagnosing issues without crashing the program.\n",
    "\n",
    "python code\n",
    "import logging\n",
    "\n",
    "try:\n",
    "    # Code that may raise an exception\n",
    "except SomeException as e:\n",
    "    logging.error(f\"An error occurred: {e}\")\n",
    "Graceful Degradation: Design your program to gracefully degrade functionality or provide alternative paths when errors occur. This ensures that the program can continue running even if certain features are unavailable.\n",
    "\n",
    "By implementing these error handling strategies, you can make your program more robust and resilient to errors, preventing crashes and improving user experience."
   ]
  },
  {
   "cell_type": "markdown",
   "metadata": {},
   "source": [
    "# 14. What is the purpose of the try clause? What is the purpose of the except clause?"
   ]
  },
  {
   "cell_type": "code",
   "execution_count": null,
   "metadata": {},
   "outputs": [],
   "source": [
    "The purpose of the try clause in Python is to enclose the code that may raise an exception or error during its execution. By wrapping this code within a try block, you indicate to the Python interpreter that it should attempt to execute this code. If an exception occurs within the try block, Python will look for a matching except clause to handle the exception.\n",
    "\n",
    "The except clause, on the other hand, is used to specify the code that should be executed if a specific exception is raised within the corresponding try block. If an exception occurs and matches the type specified in an except block, Python will execute the code within that except block. This allows you to gracefully handle exceptions and errors that may occur during program execution, preventing the program from crashing."
   ]
  }
 ],
 "metadata": {
  "kernelspec": {
   "display_name": "Python 3",
   "language": "python",
   "name": "python3"
  },
  "language_info": {
   "name": "python",
   "version": "3.11.4"
  }
 },
 "nbformat": 4,
 "nbformat_minor": 2
}
