{
 "cells": [
  {
   "cell_type": "markdown",
   "metadata": {},
   "source": [
    "# 1. In Python, what is the difference between a built-in function and a user-defined function? Provide an example of each."
   ]
  },
  {
   "cell_type": "code",
   "execution_count": null,
   "metadata": {},
   "outputs": [],
   "source": [
    "Difference between Built-in and User-defined functions:\n",
    "\n",
    "Built-in function: These are functions that are pre-defined in Python and are readily available for use without the need to declare them. Examples include print(), len(), max(), etc.\n",
    "User-defined function: These are functions that users create themselves to perform a specific task. They are defined using the def keyword followed by a function name and parameters. Here's an example:\n",
    "# python code\n",
    "# Built-in function\n",
    "result = len(\"Hello\")  # calculates the length of the string\n",
    "\n",
    "# User-defined function\n",
    "def add(a, b):\n",
    "    return a + b"
   ]
  },
  {
   "cell_type": "markdown",
   "metadata": {},
   "source": [
    "# 2. How can you pass arguments to a function in Python? Explain the difference between positional arguments and keyword arguments."
   ]
  },
  {
   "cell_type": "code",
   "execution_count": null,
   "metadata": {},
   "outputs": [],
   "source": [
    "Passing Arguments to Functions:\n",
    "\n",
    "Arguments can be passed to a function in Python either positionally or by keyword.\n",
    "Positional arguments: These are passed based on their position in the function's signature.\n",
    "Keyword arguments: These are passed with their corresponding parameter names.\n",
    "\n",
    "# python code\n",
    "def example_func(a, b, c):\n",
    "    print(a, b, c)\n",
    "\n",
    "# Positional arguments\n",
    "example_func(1, 2, 3)  # prints: 1 2 3\n",
    "\n",
    "# Keyword arguments\n",
    "example_func(a=1, b=2, c=3)  # prints: 1 2 3"
   ]
  },
  {
   "cell_type": "markdown",
   "metadata": {},
   "source": [
    "# 3. What is the purpose of the return statement in a function? Can a function have multiple return statements? Explain with an example."
   ]
  },
  {
   "cell_type": "code",
   "execution_count": null,
   "metadata": {},
   "outputs": [],
   "source": [
    "Purpose of the return statement:\n",
    "\n",
    "The return statement is used to exit a function and optionally return a value to the caller.\n",
    "A function can have multiple return statements. Once a return statement is executed, the function terminates.\n",
    "\n",
    "# python code\n",
    "\n",
    "def positive_or_negative(num):\n",
    "    if num >= 0:\n",
    "        return \"Positive\"\n",
    "    else:\n",
    "        return \"Negative\"\n",
    "\n",
    "result = positive_or_negative(5)  # returns \"Positive\""
   ]
  },
  {
   "cell_type": "markdown",
   "metadata": {},
   "source": [
    "# 4. What are lambda functions in Python? How are they different from regular functions? Provide an example where a lambda function can be useful."
   ]
  },
  {
   "cell_type": "code",
   "execution_count": null,
   "metadata": {},
   "outputs": [],
   "source": [
    "Lambda Functions:\n",
    "\n",
    "Lambda functions are small anonymous functions defined using the lambda keyword.\n",
    "They can have any number of arguments but only one expression.\n",
    "They are often used when a small function is needed for a short period.\n",
    "\n",
    "# python code\n",
    "# Regular function\n",
    "def square(x):\n",
    "    return x * x\n",
    "\n",
    "# Lambda function\n",
    "square_lambda = lambda x: x * x"
   ]
  },
  {
   "cell_type": "markdown",
   "metadata": {},
   "source": [
    "# 5. How does the concept of \"scope\" apply to functions in Python? Explain the difference between local scope and global scope."
   ]
  },
  {
   "cell_type": "code",
   "execution_count": null,
   "metadata": {},
   "outputs": [],
   "source": [
    "Scope in Python:\n",
    "\n",
    "Scope refers to the visibility of variables within a program.\n",
    "Local scope: Variables defined within a function are accessible only within that function.\n",
    "Global scope: Variables defined outside of any function can be accessed by any function in the module.\n",
    "\n",
    "# python code\n",
    "global_var = 10  # global scope\n",
    "\n",
    "def my_func():\n",
    "    local_var = 5  # local scope\n",
    "    print(global_var)  # accessible\n",
    "    print(local_var)   # accessible\n",
    "\n",
    "my_func()"
   ]
  },
  {
   "cell_type": "markdown",
   "metadata": {},
   "source": [
    "# 6. How can you use the \"return\" statement in a Python function to return multiple values?"
   ]
  },
  {
   "cell_type": "code",
   "execution_count": null,
   "metadata": {},
   "outputs": [],
   "source": [
    "Returning Multiple Values from a Function:\n",
    "\n",
    "You can return multiple values from a function by separating them with commas in the return statement. This actually returns a tuple.\n",
    "\n",
    "# python code\n",
    "def multiple_values():\n",
    "    return 1, 2, 3\n",
    "\n",
    "a, b, c = multiple_values()"
   ]
  },
  {
   "cell_type": "markdown",
   "metadata": {},
   "source": [
    "# 7. What is the difference between the \"pass by value\" and \"pass by reference\" concepts when it comes to function arguments in Python?"
   ]
  },
  {
   "cell_type": "code",
   "execution_count": null,
   "metadata": {},
   "outputs": [],
   "source": [
    "Pass by Value vs Pass by Reference:\n",
    "\n",
    "In Python, arguments are passed by object reference. So, if you pass a mutable object like a list, changes made to the object inside the function will reflect outside the function.\n",
    "However, for immutable objects like integers or strings, the object itself cannot be changed inside the function, although you can reassign the reference to a new object."
   ]
  },
  {
   "cell_type": "markdown",
   "metadata": {},
   "source": [
    "# 8. Create a function that can intake integer or decimal value and do following operations:\n",
    "a. Logarithmic function (log x)\n",
    "b. Exponential function (exp(x))\n",
    "c. Power function with base 2 (2\n",
    "x\n",
    ")\n",
    "\n",
    "d. Square root"
   ]
  },
  {
   "cell_type": "code",
   "execution_count": 2,
   "metadata": {},
   "outputs": [],
   "source": [
    "import math\n",
    "\n",
    "def math_operations(x):\n",
    "    log_result = math.log(x)\n",
    "    exp_result = math.exp(x)\n",
    "    power_result = pow(2, x)\n",
    "    sqrt_result = math.sqrt(x)\n",
    "    return log_result, exp_result, power_result, sqrt_result\n"
   ]
  },
  {
   "cell_type": "markdown",
   "metadata": {},
   "source": [
    "# 9. Create a function that takes a full name as an argument and returns first name and last name."
   ]
  },
  {
   "cell_type": "code",
   "execution_count": null,
   "metadata": {},
   "outputs": [],
   "source": [
    "def split_full_name(full_name):\n",
    "    parts = full_name.split()\n",
    "    first_name = parts[0]\n",
    "    last_name = ' '.join(parts[1:])\n",
    "    return first_name, last_name\n"
   ]
  }
 ],
 "metadata": {
  "kernelspec": {
   "display_name": "Python 3",
   "language": "python",
   "name": "python3"
  },
  "language_info": {
   "codemirror_mode": {
    "name": "ipython",
    "version": 3
   },
   "file_extension": ".py",
   "mimetype": "text/x-python",
   "name": "python",
   "nbconvert_exporter": "python",
   "pygments_lexer": "ipython3",
   "version": "3.11.4"
  }
 },
 "nbformat": 4,
 "nbformat_minor": 2
}
