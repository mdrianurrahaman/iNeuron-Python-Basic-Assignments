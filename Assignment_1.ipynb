{
 "cells": [
  {
   "cell_type": "markdown",
   "metadata": {},
   "source": [
    "# Question1 : 1. In the below elements which of them are values or an expression? eg:- values can be\n",
    "integer or string and expressions will be mathematical operators.\n",
    "*\n",
    "&#39;hello&#39;\n",
    "-87.8\n",
    "-\n",
    "/\n",
    "+\n",
    "6"
   ]
  },
  {
   "cell_type": "code",
   "execution_count": null,
   "metadata": {},
   "outputs": [],
   "source": [
    "In the given list of elements:\n",
    "\n",
    "* - Mathematical operator (expression)\n",
    "'hello' - String (value)\n",
    "-87.8 - Float number (value)\n",
    "- - Mathematical operator (expression)\n",
    "/ - Mathematical operator (expression)\n",
    "+ - Mathematical operator (expression)\n",
    "6 - Integer (value)\n",
    "So, to answer your question:\n",
    "\n",
    "Values: 'hello', -87.8, 6\n",
    "Expressions: *, -, /, +"
   ]
  }
 ],
 "metadata": {
  "kernelspec": {
   "display_name": "Python 3",
   "language": "python",
   "name": "python3"
  },
  "language_info": {
   "codemirror_mode": {
    "name": "ipython",
    "version": 3
   },
   "file_extension": ".py",
   "mimetype": "text/x-python",
   "name": "python",
   "nbconvert_exporter": "python",
   "pygments_lexer": "ipython3",
   "version": "3.11.4"
  }
 },
 "nbformat": 4,
 "nbformat_minor": 2
}
