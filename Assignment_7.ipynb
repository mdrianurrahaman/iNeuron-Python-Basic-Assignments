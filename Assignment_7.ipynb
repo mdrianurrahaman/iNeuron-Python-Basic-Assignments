{
 "cells": [
  {
   "cell_type": "markdown",
   "metadata": {},
   "source": [
    "# Q.1. Create two int type variables, apply addition, subtraction, division and multiplications\n",
    "and store the results in variables. Then print the data in the following format by calling the\n",
    "variables:\n",
    "First variable is __ & second variable is __.\n",
    "Addition: __ + __ = __\n",
    "Subtraction: __ - __ = __\n",
    "Multiplication: __ * __ = __\n",
    "Division: __ / __ = __"
   ]
  },
  {
   "cell_type": "code",
   "execution_count": 1,
   "metadata": {},
   "outputs": [
    {
     "name": "stdout",
     "output_type": "stream",
     "text": [
      "First variable is 10 & second variable is 5.\n",
      "Addition: 10 + 5 = 15\n",
      "Subtraction: 10 - 5 = 5\n",
      "Multiplication: 10 * 5 = 50\n",
      "Division: 10 / 5 = 2.0\n"
     ]
    }
   ],
   "source": [
    "# Define two int type variables\n",
    "variable1 = 10\n",
    "variable2 = 5\n",
    "\n",
    "# Perform arithmetic operations\n",
    "addition = variable1 + variable2\n",
    "subtraction = variable1 - variable2\n",
    "multiplication = variable1 * variable2\n",
    "division = variable1 / variable2\n",
    "\n",
    "# Print the data in the required format\n",
    "print(f\"First variable is {variable1} & second variable is {variable2}.\")\n",
    "print(f\"Addition: {variable1} + {variable2} = {addition}\")\n",
    "print(f\"Subtraction: {variable1} - {variable2} = {subtraction}\")\n",
    "print(f\"Multiplication: {variable1} * {variable2} = {multiplication}\")\n",
    "print(f\"Division: {variable1} / {variable2} = {division}\")\n"
   ]
  },
  {
   "cell_type": "markdown",
   "metadata": {},
   "source": [
    "# Q.2. What is the difference between the following operators:\n",
    "(i) ‘/’ & ‘//’\n",
    "(ii) ‘**’ & ‘^’"
   ]
  },
  {
   "cell_type": "code",
   "execution_count": null,
   "metadata": {},
   "outputs": [],
   "source": [
    "(i) '/' is the division operator, whereas '//' is the floor division operator. The difference lies in how they handle the result of division when the operands are integers. '/' returns a floating-point result, while '//' returns an integer result by truncating any fractional part.\n",
    "(ii) '**' is the exponentiation operator, used for raising a number to a power. '^' is not an exponentiation operator in Python; it's typically used as a bitwise XOR operator for integers."
   ]
  },
  {
   "cell_type": "markdown",
   "metadata": {},
   "source": [
    "# Q.3. List the logical operators."
   ]
  },
  {
   "cell_type": "code",
   "execution_count": null,
   "metadata": {},
   "outputs": [],
   "source": [
    "3. Logical operators in Python include:\n",
    "\n",
    "and (logical AND)\n",
    "or (logical OR)\n",
    "not (logical NOT)"
   ]
  },
  {
   "cell_type": "markdown",
   "metadata": {},
   "source": [
    "# Q.4. Explain right shift operator and left shift operator with examples."
   ]
  },
  {
   "cell_type": "code",
   "execution_count": null,
   "metadata": {},
   "outputs": [],
   "source": [
    "The right shift operator (>>) shifts the bits of a number to the right by a specified number of positions. It's equivalent to dividing the number by 2 to the power of the shift amount. For example, x >> y shifts the bits of x to the right by y positions.\n",
    "The left shift operator (<<) shifts the bits of a number to the left by a specified number of positions. It's equivalent to multiplying the number by 2 to the power of the shift amount. For example, x << y shifts the bits of x to the left by y positions."
   ]
  },
  {
   "cell_type": "markdown",
   "metadata": {},
   "source": [
    "# Q.5. Create a list containing int type data of length 15. Then write a code to check if 10 is present in the list or not."
   ]
  },
  {
   "cell_type": "code",
   "execution_count": 2,
   "metadata": {},
   "outputs": [
    {
     "name": "stdout",
     "output_type": "stream",
     "text": [
      "10 is present in the list.\n"
     ]
    }
   ],
   "source": [
    "# Create a list containing int type data of length 15\n",
    "my_list = [i for i in range(1, 16)]\n",
    "\n",
    "# Check if 10 is present in the list\n",
    "if 10 in my_list:\n",
    "    print(\"10 is present in the list.\")\n",
    "else:\n",
    "    print(\"10 is not present in the list.\")\n"
   ]
  }
 ],
 "metadata": {
  "kernelspec": {
   "display_name": "Python 3",
   "language": "python",
   "name": "python3"
  },
  "language_info": {
   "codemirror_mode": {
    "name": "ipython",
    "version": 3
   },
   "file_extension": ".py",
   "mimetype": "text/x-python",
   "name": "python",
   "nbconvert_exporter": "python",
   "pygments_lexer": "ipython3",
   "version": "3.11.4"
  }
 },
 "nbformat": 4,
 "nbformat_minor": 2
}
