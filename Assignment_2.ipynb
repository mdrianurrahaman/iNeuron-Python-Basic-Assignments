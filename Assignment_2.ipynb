{
 "cells": [
  {
   "cell_type": "markdown",
   "metadata": {},
   "source": [
    "# 1.What are the two values of the Boolean data type? How do you write them? "
   ]
  },
  {
   "cell_type": "code",
   "execution_count": null,
   "metadata": {},
   "outputs": [],
   "source": [
    "\n",
    "The Boolean data type in Python represents truth values, indicating either true or false. There are two possible values for the Boolean data type:\n",
    "\n",
    "True: This represents a true or affirmative condition.\n",
    "False: This represents a false or negative condition.\n",
    "In Python, you write these Boolean values as True and False respectively. Note that the first letter of each Boolean value is capitalized, as Boolean values are case-sensitive in Python."
   ]
  },
  {
   "cell_type": "code",
   "execution_count": null,
   "metadata": {},
   "outputs": [],
   "source": []
  },
  {
   "cell_type": "markdown",
   "metadata": {},
   "source": [
    "# 2. What are the three different types of Boolean operators?"
   ]
  },
  {
   "cell_type": "code",
   "execution_count": null,
   "metadata": {},
   "outputs": [],
   "source": [
    "The three different types of Boolean operators in Python are:\n",
    "\n",
    "AND: The and operator returns True if both operands are True, otherwise it returns False.\n",
    "\n",
    "OR: The or operator returns True if at least one of the operands is True, otherwise it returns False.\n",
    "\n",
    "NOT: The not operator returns the opposite of the operand's Boolean value. If the operand is True, not returns False, and if the operand is False, not returns True.\n",
    "\n",
    "These Boolean operators are used to perform logical operations on Boolean values or expressions in Python."
   ]
  },
  {
   "cell_type": "code",
   "execution_count": null,
   "metadata": {},
   "outputs": [],
   "source": []
  },
  {
   "cell_type": "markdown",
   "metadata": {},
   "source": [
    "# 3. Make a list of each Boolean operator&#39;s truth tables (i. e. every possible combination of Boolean values for the operator and what it evaluate ).\n",
    "#"
   ]
  },
  {
   "cell_type": "code",
   "execution_count": null,
   "metadata": {},
   "outputs": [],
   "source": [
    "AND Operator (&&)\n",
    "A\tB\tA && B\n",
    "0\t0\t  0\n",
    "0\t1\t  0\n",
    "1\t0\t  0\n",
    "1\t1\t  1\n",
    "\n",
    "\n",
    "OR Operator (||)\n",
    "A\tB A || B\n",
    "0\t0\t0\n",
    "0\t1\t1\n",
    "1\t0\t1\n",
    "1\t1\t1\n",
    "\n",
    "\n",
    "NOT Operator (!)\n",
    "A\t!A\n",
    "0\t1\n",
    "1\t0\n",
    "\n",
    "XOR Operator (^)\n",
    "A\tB\tA ^ B\n",
    "0\t0\t0\n",
    "0\t1\t1\n",
    "1\t0\t1\n",
    "1\t1\t0\n",
    "\n",
    "NAND Operator\n",
    "A\tB\t!(A && B)\n",
    "0\t0\t1\n",
    "0\t1\t1\n",
    "1\t0\t1\n",
    "1\t1\t0\n",
    "\n"
   ]
  },
  {
   "cell_type": "code",
   "execution_count": null,
   "metadata": {},
   "outputs": [],
   "source": []
  },
  {
   "cell_type": "markdown",
   "metadata": {},
   "source": [
    "# 4. What are the values of the following expressions?\n",
    " (5 &gt; 4) \n",
    " and (3 == 5)\n",
    " not (5 &gt; 4)\n",
    "(5 &gt; 4) or (3 == 5)\n",
    "not ((5 &gt; 4) or (3 == 5))\n",
    "(True and True) and (True == False)\n",
    "(not False) or (not True)"
   ]
  },
  {
   "cell_type": "code",
   "execution_count": null,
   "metadata": {},
   "outputs": [],
   "source": [
    "(5 > 4) and (3 == 5)\n",
    "\n",
    "(5 > 4) evaluates to True.\n",
    "(3 == 5) evaluates to False.\n",
    "True and False evaluates to False.\n",
    "not (5 > 4)\n",
    "\n",
    "(5 > 4) evaluates to True.\n",
    "not True evaluates to False.\n",
    "(5 > 4) or (3 == 5)\n",
    "\n",
    "(5 > 4) evaluates to True.\n",
    "(3 == 5) evaluates to False.\n",
    "True or False evaluates to True.\n",
    "not ((5 > 4) or (3 == 5))\n",
    "\n",
    "(5 > 4) evaluates to True.\n",
    "(3 == 5) evaluates to False.\n",
    "True or False evaluates to True.\n",
    "not True evaluates to False.\n",
    "(True and True) and (True == False)\n",
    "\n",
    "True and True evaluates to True.\n",
    "True == False evaluates to False.\n",
    "True and False evaluates to False.\n",
    "(not False) or (not True)\n",
    "\n",
    "not False evaluates to True.\n",
    "not True evaluates to False.\n",
    "True or False evaluates to True.\n",
    "So, the values of the expressions are:\n",
    "\n",
    "False\n",
    "False\n",
    "True\n",
    "False\n",
    "False\n",
    "True"
   ]
  },
  {
   "cell_type": "markdown",
   "metadata": {},
   "source": [
    "# 5. What are the six comparison operators?"
   ]
  },
  {
   "cell_type": "code",
   "execution_count": null,
   "metadata": {},
   "outputs": [],
   "source": [
    "The six comparison operators in many programming languages include:\n",
    "\n",
    "Equal to (==): Checks if two values are equal.\n",
    "Not equal to (!=): Checks if two values are not equal.\n",
    "Greater than (>): Checks if the left operand is greater than the right operand.\n",
    "Less than (<): Checks if the left operand is less than the right operand.\n",
    "Greater than or equal to (>=): Checks if the left operand is greater than or equal to the right operand.\n",
    "Less than or equal to (<=): Checks if the left operand is less than or equal to the right operand."
   ]
  },
  {
   "cell_type": "code",
   "execution_count": null,
   "metadata": {},
   "outputs": [],
   "source": []
  },
  {
   "cell_type": "markdown",
   "metadata": {},
   "source": [
    "# 6. How do you tell the difference between the equal to and assignment operators?Describe a condition and when you would use one."
   ]
  },
  {
   "cell_type": "code",
   "execution_count": null,
   "metadata": {},
   "outputs": [],
   "source": [
    "The equality operator (==) is used to compare two values to see if they are equal, while the assignment operator (=) is used to assign a value to a variable.\n",
    "\n",
    "Here's how you can differentiate between the two:\n",
    "\n",
    "Equal to Operator (==):\n",
    "\n",
    "The equality operator is used in conditional statements or expressions to compare whether two values are equal.\n",
    "Example: if (x == 5) { ... }\n",
    "In this example, x == 5 checks whether the value of x is equal to 5. If it is, the condition is true and the code within the block is executed.\n",
    "Assignment Operator (=):\n",
    "\n",
    "The assignment operator is used to assign a value to a variable.\n",
    "Example: int x = 5;\n",
    "In this example, the value 5 is assigned to the variable x. It does not compare x with 5; rather, it sets x to be 5.\n",
    "Here's a practical scenario where you would use each:\n",
    "\n",
    "Equal to Operator (==):\n",
    "\n",
    "You would use the equal to operator when you want to compare two values to make a decision or perform an action based on whether they are equal or not. For example, in a program that checks if a user input matches a predefined value:\n",
    "\n",
    "python code:\n",
    "user_input = input(\"Enter a value: \")\n",
    "if user_input == \"hello\":\n",
    "    print(\"The input is equal to 'hello'.\")\n",
    "else:\n",
    "    print(\"The input is not equal to 'hello'.\")\n",
    "Assignment Operator (=):\n",
    "\n",
    "You would use the assignment operator when you want to assign a value to a variable. For example, when initializing a variable with a specific value:\n",
    "\n",
    "python code:\n",
    "x = 10  # Assigns the value 10 to the variable x\n"
   ]
  },
  {
   "cell_type": "code",
   "execution_count": null,
   "metadata": {},
   "outputs": [],
   "source": []
  },
  {
   "cell_type": "markdown",
   "metadata": {},
   "source": [
    "# \n",
    "# 7. Identify the three blocks in this code:\n",
    "spam = 0\n",
    "if spam == 10:\n",
    "print(&#39;eggs&#39;)\n",
    "if spam &gt; 5:\n",
    "print(&#39;bacon&#39;)\n",
    "else:\n",
    "print(&#39;ham&#39;)\n",
    "print(&#39;spam&#39;)\n",
    "print(&#39;spam&#39;)"
   ]
  },
  {
   "cell_type": "code",
   "execution_count": null,
   "metadata": {},
   "outputs": [],
   "source": [
    "\n",
    "spam = 0\n",
    "if spam == 10:\n",
    "    print('eggs')  # Block 1\n",
    "if spam > 5:\n",
    "    print('bacon')  # Block 2\n",
    "else:\n",
    "    print('ham')  # Block 3\n",
    "print('spam')\n",
    "print('spam')\n",
    "In this code:\n",
    "\n",
    "Block 1: This block contains the print('eggs') statement. It is part of the first if statement, which checks if spam is equal to 10. However, since spam is initialized as 0, this block will not be executed.\n",
    "\n",
    "Block 2: This block contains the print('bacon') statement. It is also part of an if statement, but it checks if spam is greater than 5. Since spam is 0, this block will not be executed either.\n",
    "\n",
    "Block 3: This block contains the print('ham') statement. It is the else block corresponding to the second if statement. Since the condition spam > 5 is not satisfied, this else block will be executed.\n",
    "\n",
    "The print('spam') statements are not part of any conditional blocks, so they will always be executed."
   ]
  },
  {
   "cell_type": "code",
   "execution_count": null,
   "metadata": {},
   "outputs": [],
   "source": []
  },
  {
   "cell_type": "markdown",
   "metadata": {},
   "source": [
    "# 8. Write code that prints Hello if 1 is stored in spam, prints Howdy if 2 is stored in spam, and prints Greetings! if anything else is stored in spam."
   ]
  },
  {
   "cell_type": "code",
   "execution_count": null,
   "metadata": {},
   "outputs": [],
   "source": [
    "spam = 1  # Assume spam can take values 1, 2, or anything else\n",
    "\n",
    "if spam == 1:\n",
    "    print('Hello')\n",
    "elif spam == 2:\n",
    "    print('Howdy')\n",
    "else:\n",
    "    print('Greetings!')\n",
    "In this code:\n",
    "\n",
    "If spam is equal to 1, it will print \"Hello\".\n",
    "If spam is equal to 2, it will print \"Howdy\".\n",
    "If spam is anything else, it will print \"Greetings!\".\n",
    "\n",
    "\n",
    "\n"
   ]
  },
  {
   "cell_type": "code",
   "execution_count": null,
   "metadata": {},
   "outputs": [],
   "source": []
  },
  {
   "cell_type": "markdown",
   "metadata": {},
   "source": [
    "# 9.If your programme is stuck in an endless loop, what keys you’ll press?"
   ]
  },
  {
   "cell_type": "code",
   "execution_count": null,
   "metadata": {},
   "outputs": [],
   "source": [
    "Here are the common key combinations to interrupt program execution:\n",
    "\n",
    "Ctrl + C: This is a universal key combination in many operating systems (such as Windows, Linux, and macOS) and programming environments. Pressing Ctrl + C sends a SIGINT signal to the running process, which typically terminates it.\n",
    "\n",
    "Ctrl + Break: On some systems, especially Windows, Ctrl + Break can also be used to interrupt program execution.\n",
    "\n",
    "Ctrl + Z: In Unix-based systems (like Linux and macOS), Ctrl + Z suspends the current process. After suspending, you can terminate the process by typing kill %1 (assuming the process ID is 1) and pressing Enter.\n",
    "\n",
    "Ctrl + \\ (Backslash): This is another option in Unix-based systems to terminate a process forcefully."
   ]
  },
  {
   "cell_type": "code",
   "execution_count": null,
   "metadata": {},
   "outputs": [],
   "source": []
  },
  {
   "cell_type": "markdown",
   "metadata": {},
   "source": [
    "# 10. How can you tell the difference between break and continue?"
   ]
  },
  {
   "cell_type": "code",
   "execution_count": null,
   "metadata": {},
   "outputs": [],
   "source": [
    "# Break Statement:\n",
    "\n",
    "The break statement is used to exit or terminate a loop prematurely.\n",
    "When encountered, break immediately terminates the innermost loop it's in and transfers control to the next statement after the loop.\n",
    "It is commonly used when a certain condition is met and you want to exit the loop without completing its full iteration.\n",
    "Example (Python)\n",
    "python code:\n",
    "\n",
    "for i in range(10):\n",
    "    if i == 5:\n",
    "        break\n",
    "    print(i)\n",
    "Output:\n",
    "\n",
    "0\n",
    "1\n",
    "2\n",
    "3\n",
    "4\n",
    "\n",
    "\n",
    "\n",
    "# Continue Statement:\n",
    "\n",
    "The continue statement is used to skip the current iteration of a loop and continue with the next iteration.\n",
    "When encountered, continue immediately terminates the current iteration of the loop and moves to the next iteration.\n",
    "It is commonly used when you want to skip certain iterations based on a specific condition but continue looping.\n",
    "Example (Python):\n",
    "python code:\n",
    "for i in range(10):\n",
    "    if i == 5:\n",
    "        continue\n",
    "    print(i)\n",
    "Output:\n",
    "\n",
    "0\n",
    "1\n",
    "2\n",
    "3\n",
    "4\n",
    "6\n",
    "7\n",
    "8\n",
    "9"
   ]
  },
  {
   "cell_type": "code",
   "execution_count": null,
   "metadata": {},
   "outputs": [],
   "source": []
  },
  {
   "cell_type": "markdown",
   "metadata": {},
   "source": [
    "# 11. In a for loop, what is the difference between range(10), range(0, 10), and range(0, 10, 1)?"
   ]
  },
  {
   "cell_type": "code",
   "execution_count": null,
   "metadata": {},
   "outputs": [],
   "source": [
    "range(10):\n",
    "\n",
    "This creates a sequence of numbers starting from 0 (inclusive) up to, but not including, 10.\n",
    "The syntax is range(stop), where stop is the number at which to stop the sequence.\n",
    "So, range(10) generates numbers from 0 to 9.\n",
    "Example:\n",
    "for i in range(10):\n",
    "    print(i)\n",
    "Output:\n",
    "0\n",
    "1\n",
    "2\n",
    "3\n",
    "4\n",
    "5\n",
    "6\n",
    "7\n",
    "8\n",
    "9\n",
    "\n",
    "range(0, 10):\n",
    "\n",
    "This creates a sequence of numbers starting from the specified start value (0 in this case) up to, but not including, the specified stop value (10 in this case).\n",
    "The syntax is range(start, stop), where start is the starting number of the sequence and stop is the number at which to stop the sequence.\n",
    "So, range(0, 10) generates numbers from 0 to 9, similar to range(10).\n",
    "Example:\n",
    "\n",
    "for i in range(0, 10):\n",
    "    print(i)\n",
    "\n",
    "range(0, 10, 1):\n",
    "\n",
    "This creates a sequence of numbers starting from the specified start value (0 in this case) up to, but not including, the specified stop value (10 in this case), with the specified step size (1 in this case).\n",
    "The syntax is range(start, stop, step), where start is the starting number of the sequence, stop is the number at which to stop the sequence, and step is the size of each step in the sequence.\n",
    "So, range(0, 10, 1) generates numbers from 0 to 9, with a step size of 1.\n",
    "Example:\n",
    "python\n",
    "Copy code\n",
    "for i in range(0, 10, 1):\n",
    "    print(i)\n",
    "Output is the same as range(10) and range(0, 10).\n",
    "\n",
    "\n",
    "\n"
   ]
  },
  {
   "cell_type": "code",
   "execution_count": null,
   "metadata": {},
   "outputs": [],
   "source": []
  },
  {
   "cell_type": "markdown",
   "metadata": {},
   "source": [
    "# 12. Write a short program that prints the numbers 1 to 10 using a for loop. Then write an equivalent program that prints the numbers 1 to 10 using a while loop."
   ]
  },
  {
   "cell_type": "code",
   "execution_count": 5,
   "metadata": {},
   "outputs": [
    {
     "name": "stdout",
     "output_type": "stream",
     "text": [
      "1\n",
      "2\n",
      "3\n",
      "4\n",
      "5\n",
      "6\n",
      "7\n",
      "8\n",
      "9\n",
      "10\n"
     ]
    }
   ],
   "source": [
    "# For Loop To print 1 to 10 \n",
    "\n",
    "for i in range(1,11):\n",
    "    print(i)\n",
    "\n",
    "\n"
   ]
  },
  {
   "cell_type": "code",
   "execution_count": 7,
   "metadata": {},
   "outputs": [
    {
     "name": "stdout",
     "output_type": "stream",
     "text": [
      "1\n",
      "2\n",
      "3\n",
      "4\n",
      "5\n",
      "6\n",
      "7\n",
      "8\n",
      "9\n",
      "10\n"
     ]
    }
   ],
   "source": [
    "# Using a while loop\n",
    "i = 1\n",
    "while i <= 10:\n",
    "    print(i)\n",
    "    i += 1"
   ]
  },
  {
   "cell_type": "code",
   "execution_count": null,
   "metadata": {},
   "outputs": [],
   "source": []
  },
  {
   "cell_type": "markdown",
   "metadata": {},
   "source": [
    "# 13. If you had a function named bacon() inside a module named spam, how would you call it after importing spam?"
   ]
  },
  {
   "cell_type": "code",
   "execution_count": null,
   "metadata": {},
   "outputs": [],
   "source": [
    "import spam\n",
    "\n",
    "# Call the bacon() function from the spam module\n",
    "spam.bacon()"
   ]
  }
 ],
 "metadata": {
  "kernelspec": {
   "display_name": "Python 3",
   "language": "python",
   "name": "python3"
  },
  "language_info": {
   "codemirror_mode": {
    "name": "ipython",
    "version": 3
   },
   "file_extension": ".py",
   "mimetype": "text/x-python",
   "name": "python",
   "nbconvert_exporter": "python",
   "pygments_lexer": "ipython3",
   "version": "3.11.4"
  }
 },
 "nbformat": 4,
 "nbformat_minor": 2
}
