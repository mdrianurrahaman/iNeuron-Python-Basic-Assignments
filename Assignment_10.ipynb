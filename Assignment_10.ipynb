{
 "cells": [
  {
   "cell_type": "markdown",
   "metadata": {},
   "source": [
    "#                17th June '23 Assignment.         "
   ]
  },
  {
   "cell_type": "markdown",
   "metadata": {},
   "source": [
    "# 1. What is the role of try and exception block?"
   ]
  },
  {
   "cell_type": "code",
   "execution_count": null,
   "metadata": {},
   "outputs": [],
   "source": [
    "The role of a try-except block in Python is to handle exceptions that might occur during the execution of code. It allows you to catch and handle specific errors gracefully, preventing the program from crashing."
   ]
  },
  {
   "cell_type": "markdown",
   "metadata": {},
   "source": [
    "# 2. What is the syntax for a basic try-except block?"
   ]
  },
  {
   "cell_type": "code",
   "execution_count": null,
   "metadata": {},
   "outputs": [],
   "source": [
    "The syntax for a basic try-except block in Python is as follows:\n",
    "\n",
    "python code\n",
    "try:\n",
    "    # Code that might raise an exception\n",
    "    # ...\n",
    "except ExceptionType:\n",
    "    # Code to handle the exception\n",
    "    # ..."
   ]
  },
  {
   "cell_type": "markdown",
   "metadata": {},
   "source": [
    "# 3. What happens if an exception occurs inside a try block and there is no matching except block?"
   ]
  },
  {
   "cell_type": "code",
   "execution_count": null,
   "metadata": {},
   "outputs": [],
   "source": [
    "If an exception occurs inside a try block and there is no matching except block, the program will terminate with an unhandled exception error."
   ]
  },
  {
   "cell_type": "markdown",
   "metadata": {},
   "source": [
    "# 4. What is the difference between using a bare except block and specifying a specific exception type?"
   ]
  },
  {
   "cell_type": "code",
   "execution_count": null,
   "metadata": {},
   "outputs": [],
   "source": [
    "The difference between using a bare except block and specifying a specific exception type is that a bare except block will catch any type of exception, whereas specifying a specific exception type will only catch exceptions of that type or its subclasses."
   ]
  },
  {
   "cell_type": "markdown",
   "metadata": {},
   "source": [
    "# 5. Can you have nested try-except blocks in Python? If yes, then give an example."
   ]
  },
  {
   "cell_type": "code",
   "execution_count": null,
   "metadata": {},
   "outputs": [],
   "source": [
    "# Yes, you can have nested try-except blocks in Python. Here's an example:\n",
    "\n",
    "try:\n",
    "    try:\n",
    "        # Nested try block\n",
    "        x = 1 / 0\n",
    "    except ZeroDivisionError:\n",
    "        print(\"Division by zero\")\n",
    "except Exception as e:\n",
    "    print(\"Exception occurred:\", e)\n"
   ]
  },
  {
   "cell_type": "markdown",
   "metadata": {},
   "source": [
    "# 6. Can we use multiple exception blocks, if yes then give an example."
   ]
  },
  {
   "cell_type": "code",
   "execution_count": null,
   "metadata": {},
   "outputs": [],
   "source": [
    "Yes, you can use multiple except blocks to handle different types of exceptions. Here's an example:\n",
    "\n",
    "try:\n",
    "    # Code that might raise an exception\n",
    "    # ...\n",
    "except ValueError:\n",
    "    # Handle ValueError\n",
    "    # ...\n",
    "except TypeError:\n",
    "    # Handle TypeError\n",
    "    # ...\n"
   ]
  },
  {
   "cell_type": "markdown",
   "metadata": {},
   "source": [
    "# 7. Write the reason due to which following errors are raised:\n",
    "a. EOFError\n",
    "b. FloatingPointError\n",
    "c. IndexError\n",
    "d. MemoryError\n",
    "e. OverflowError\n",
    "f. TabError\n",
    "g. ValueError"
   ]
  },
  {
   "cell_type": "code",
   "execution_count": null,
   "metadata": {},
   "outputs": [],
   "source": [
    "Reasons for the listed errors:\n",
    "\n",
    "a. EOFError: Raised when the input() function hits an end-of-file condition without reading any data.\n",
    "\n",
    "b. FloatingPointError: Raised when a floating-point calculation fails.\n",
    "\n",
    "c. IndexError: Raised when trying to access an index that does not exist in a sequence (e.g., list, tuple).\n",
    "\n",
    "d. MemoryError: Raised when an operation runs out of memory.\n",
    "\n",
    "e. OverflowError: Raised when a calculation exceeds the maximum limit for a numeric type.\n",
    "\n",
    "f. TabError: Raised when inconsistent use of tabs and spaces in indentation.\n",
    "\n",
    "g. ValueError: Raised when a function receives an argument of the correct type but with an invalid value."
   ]
  },
  {
   "cell_type": "markdown",
   "metadata": {},
   "source": [
    "# 8. Write code for the following given scenario and add try-exception block to it.\n",
    "a. Program to divide two numbers\n",
    "b. Program to convert a string to an integer\n",
    "c. Program to access an element in a list\n",
    "d. Program to handle a specific exception\n",
    "e. Program to handle any exception\n"
   ]
  },
  {
   "cell_type": "code",
   "execution_count": null,
   "metadata": {},
   "outputs": [],
   "source": [
    "a. Program to divide two numbers:\n",
    "\n",
    "python code\n",
    "try:\n",
    "    result = num1 / num2\n",
    "    print(\"Result:\", result)\n",
    "except ZeroDivisionError:\n",
    "    print(\"Cannot divide by zero\")\n",
    "\n",
    "b. Program to convert a string to an integer:\n",
    "\n",
    "try:\n",
    "    num = int(input(\"Enter a number: \"))\n",
    "    print(\"Number entered:\", num)\n",
    "except ValueError:\n",
    "    print(\"Invalid input. Please enter a valid integer.\")\n",
    "\n",
    "\n",
    "\n",
    "c. Program to access an element in a list:\n",
    "\n",
    "my_list = [1, 2, 3]\n",
    "try:\n",
    "    print(my_list[3])\n",
    "except IndexError:\n",
    "    print(\"Index out of range\")\n",
    "\n",
    "\n",
    "d. Program to handle a specific exception:\n",
    "try:\n",
    "    file = open(\"nonexistent_file.txt\", \"r\")\n",
    "    data = file.read()\n",
    "    file.close()\n",
    "except FileNotFoundError:\n",
    "    print(\"File not found\")\n",
    "\n",
    "\n",
    "e. Program to handle any exception:\n",
    "\n",
    "try:\n",
    "    x = 1 / 0\n",
    "except Exception as e:\n",
    "    print(\"An error occurred:\", e)\n"
   ]
  }
 ],
 "metadata": {
  "kernelspec": {
   "display_name": "Python 3",
   "language": "python",
   "name": "python3"
  },
  "language_info": {
   "name": "python",
   "version": "3.11.4"
  }
 },
 "nbformat": 4,
 "nbformat_minor": 2
}
