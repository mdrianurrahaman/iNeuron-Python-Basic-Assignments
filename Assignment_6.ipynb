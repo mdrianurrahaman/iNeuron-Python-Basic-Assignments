{
 "cells": [
  {
   "cell_type": "markdown",
   "metadata": {},
   "source": [
    "# Q.1. What are keywords in python? Using the keyword library, print all the python keywords."
   ]
  },
  {
   "cell_type": "code",
   "execution_count": null,
   "metadata": {},
   "outputs": [],
   "source": [
    "1. Keywords in Python are reserved words that are used to define the syntax and structure of the language. These keywords cannot be used as identifiers (such as variable names or function names) because they are already predefined for specific purposes in the language. In Python, you can access the list of keywords using the keyword library. Here's how you can print all Python keywords:\n",
    "import keyword\n",
    "print(keyword.kwlist)\n"
   ]
  },
  {
   "cell_type": "markdown",
   "metadata": {},
   "source": [
    "# Q.2. What are the rules to create variables in python?"
   ]
  },
  {
   "cell_type": "code",
   "execution_count": null,
   "metadata": {},
   "outputs": [],
   "source": [
    " Rules to create variables in Python:\n",
    "\n",
    "Variable names must start with a letter (a-z, A-Z) or an underscore (_).\n",
    "The remainder of the variable name can consist of letters, numbers, and underscores.\n",
    "Variable names are case-sensitive.\n",
    "Variable names cannot be the same as Python keywords."
   ]
  },
  {
   "cell_type": "markdown",
   "metadata": {},
   "source": [
    "# Q.3 What are the standards and conventions followed for the nomenclature of variables in python to improve code readability and maintainability?"
   ]
  },
  {
   "cell_type": "code",
   "execution_count": null,
   "metadata": {},
   "outputs": [],
   "source": [
    "3. Standards and conventions for variable naming in Python include:\n",
    "\n",
    "Using descriptive names that convey the purpose or meaning of the variable.\n",
    "Using lowercase letters with words separated by underscores (snake_case) for variable names.\n",
    "Avoiding single-character names except for certain common conventions (e.g., i for loop indices).\n",
    "Following the PEP 8 style guide for Python code."
   ]
  },
  {
   "cell_type": "markdown",
   "metadata": {},
   "source": [
    "# Q.4. What will happen if a keyword is used as a variable name?"
   ]
  },
  {
   "cell_type": "code",
   "execution_count": null,
   "metadata": {},
   "outputs": [],
   "source": [
    "4. If a keyword is used as a variable name in Python, it will result in a syntax error because keywords are reserved for specific language syntax and cannot be used for naming variables."
   ]
  },
  {
   "cell_type": "markdown",
   "metadata": {},
   "source": [
    "# Q.5. For what purpose def keyword is used?"
   ]
  },
  {
   "cell_type": "code",
   "execution_count": null,
   "metadata": {},
   "outputs": [],
   "source": [
    "5. The def keyword in Python is used to define functions. It is followed by the function name and parameters, followed by a colon (:), and then the function body."
   ]
  },
  {
   "cell_type": "markdown",
   "metadata": {},
   "source": [
    "# Q.6. What is the operation of this special character ‘\\’?"
   ]
  },
  {
   "cell_type": "code",
   "execution_count": null,
   "metadata": {},
   "outputs": [],
   "source": [
    "6. The special character \\ in Python is used as an escape character. It is used to indicate that the next character following it has a special meaning. For example, \\n represents a newline character, \\t represents a tab character, etc."
   ]
  },
  {
   "cell_type": "markdown",
   "metadata": {},
   "source": [
    "# Q.7. Give an example of the following conditions:\n",
    "(i) Homogeneous list\n",
    "(ii) Heterogeneous set\n",
    "(iii) Homogeneous tuple"
   ]
  },
  {
   "cell_type": "code",
   "execution_count": null,
   "metadata": {},
   "outputs": [],
   "source": [
    "7. Examples of the given conditions:\n",
    "(i) Homogeneous list:\n",
    "python code\n",
    "homogeneous_list = [1, 2, 3, 4, 5]\n",
    "\n",
    "(ii) Heterogeneous set:\n",
    "python code\n",
    "heterogeneous_set = {1, 'apple', 3.14, True}\n",
    "\n",
    "(iii) Homogeneous tuple:\n",
    "python code\n",
    "homogeneous_tuple = (1, 2, 3, 4, 5)"
   ]
  },
  {
   "cell_type": "markdown",
   "metadata": {},
   "source": [
    "# Q.8. Explain the mutable and immutable data types with proper explanation & examples."
   ]
  },
  {
   "cell_type": "code",
   "execution_count": null,
   "metadata": {},
   "outputs": [],
   "source": [
    "8. Mutable data types in Python can be modified after creation, while immutable data types cannot be modified. Examples:\n",
    "\n",
    "Mutable: Lists, dictionaries\n",
    "python code\n",
    "my_list = [1, 2, 3]\n",
    "my_list[0] = 100  # Modifying the list\n",
    "print(my_list)  # Output: [100, 2, 3]\n",
    "\n",
    "Immutable: Tuples, strings\n",
    "python code\n",
    "my_tuple = (1, 2, 3)\n",
    "my_tuple[0] = 100  # This will raise an error"
   ]
  },
  {
   "cell_type": "markdown",
   "metadata": {},
   "source": [
    "# Q.9. Write a code to create the given structure using only for loop.\n",
    "# *\n",
    "# ***\n",
    "# *****\n",
    "# *******\n",
    "# *********"
   ]
  },
  {
   "cell_type": "code",
   "execution_count": 1,
   "metadata": {},
   "outputs": [
    {
     "name": "stdout",
     "output_type": "stream",
     "text": [
      "*\n",
      "***\n",
      "*****\n",
      "*******\n",
      "*********\n"
     ]
    }
   ],
   "source": [
    "rows = 5\n",
    "for i in range(1, rows+1):\n",
    "    print(\"*\" * (2*i-1))\n"
   ]
  },
  {
   "cell_type": "markdown",
   "metadata": {},
   "source": [
    "# Q.10. Write a code to create the given structure using while loop.\n",
    "# |||||||||\n",
    "# |||||||\n",
    "# |||||\n",
    "# |||\n",
    "# |"
   ]
  },
  {
   "cell_type": "code",
   "execution_count": 2,
   "metadata": {},
   "outputs": [
    {
     "name": "stdout",
     "output_type": "stream",
     "text": [
      "|||||||||\n",
      "|||||||\n",
      "|||||\n",
      "|||\n",
      "|\n"
     ]
    }
   ],
   "source": [
    "# 10. Code to create the given structure using a while loop:\n",
    "\n",
    "# python code\n",
    "rows = 9\n",
    "while rows >= 1:\n",
    "    print(\"|\" * rows)\n",
    "    rows -= 2"
   ]
  }
 ],
 "metadata": {
  "kernelspec": {
   "display_name": "Python 3",
   "language": "python",
   "name": "python3"
  },
  "language_info": {
   "codemirror_mode": {
    "name": "ipython",
    "version": 3
   },
   "file_extension": ".py",
   "mimetype": "text/x-python",
   "name": "python",
   "nbconvert_exporter": "python",
   "pygments_lexer": "ipython3",
   "version": "3.11.4"
  }
 },
 "nbformat": 4,
 "nbformat_minor": 2
}
